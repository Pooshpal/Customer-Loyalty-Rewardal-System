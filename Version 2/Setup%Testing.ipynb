{
 "cells": [
  {
   "cell_type": "code",
   "execution_count": 1,
   "metadata": {},
   "outputs": [],
   "source": [
    "import mysql.connector as mysq\n",
    "\n",
    "mydb = mysq.connect(\n",
    "host=\"localhost\",\n",
    "user=\"root\",\n",
    "password=\"password\",\n",
    "database=\"dataBucket\"\n",
    ")\n",
    "mycursor = mydb.cursor()"
   ]
  },
  {
   "cell_type": "markdown",
   "metadata": {},
   "source": [
    "-       Log        [ dateTime(DateTime) , userName(String), rewardClaimed(Boolean), billTotal(Int) ]\n",
    "-       Rewards    [ dateTime_allocated(DateTime), dateTime_claimed(DateTime), userName(String), rewardToken(UNIQUE String), category(Int), status(String)]\n",
    "-       Products   [ productCode(UNIQUE String),productName(String), productPrice(Int), UnitsSold(Int), UnitsSold_Reward(Int)]"
   ]
  },
  {
   "cell_type": "code",
   "execution_count": 2,
   "metadata": {},
   "outputs": [],
   "source": [
    "import datetime\n",
    "dt = datetime.datetime.now()\n",
    "\n",
    "def prod_setup(productName, productCode, productPrice, UnitsSold, UnitsSold_Reward):\n",
    "    mycursor.execute(\"INSERT INTO products (productCode, productName, productPrice, UnitsSold, UnitsSold_Reward) VALUES (%s,%s,%s,%s,%s);\",(productCode, productName, productPrice, UnitsSold, UnitsSold_Reward))\n",
    "    mydb.commit()\n",
    "    #print(\"Inserted Into Products:\")\n",
    "\n",
    "def reward_setup(userName:str, rewardAllocated:str, category:int):\n",
    "    mycursor.execute(\"INSERT into rewards (dateTime_allocated, dateTime_claimed, userName, rewardToken, category, status) VALUES (%s,%s,%s,%s,%s,%s);\",(dt,None,userName, rewardAllocated, category,\"ACTIVE\"))\n",
    "    mydb.commit()\n",
    "    #print(\"Inserted Into rewards:\")\n",
    "\n",
    "def log_setup(userName, rewardClaimed, bill):\n",
    "    mycursor.execute(\"INSERT into logs (dateTime, userName, rewardClaimed, billTotal) VALUES (%s,%s,%s,%s);\",(dt, userName, rewardClaimed, bill ))\n",
    "    mydb.commit()\n",
    "    #print(\"Inserted Into log:\")"
   ]
  },
  {
   "cell_type": "markdown",
   "metadata": {},
   "source": [
    "# Products"
   ]
  },
  {
   "cell_type": "code",
   "execution_count": 3,
   "metadata": {},
   "outputs": [
    {
     "data": {
      "text/plain": [
       "[('LP', 'Laptop', 250, 0, 0),\n",
       " ('CP', 'CPU', 450, 0, 0),\n",
       " ('MN', 'Monitor', 150, 0, 0),\n",
       " ('CA', 'Cables', 50, 0, 0),\n",
       " ('KB', 'Keyboard', 100, 0, 0),\n",
       " ('MO', 'Mouse', 75, 0, 0),\n",
       " ('RM', 'RAM', 300, 0, 0),\n",
       " ('GP', 'GPU', 350, 0, 0)]"
      ]
     },
     "execution_count": 3,
     "metadata": {},
     "output_type": "execute_result"
    }
   ],
   "source": [
    "mycursor.execute(\"TRUNCATE TABLE products;\")\n",
    "prod_setup(\"Laptop\",\"LP\",250,0,0)\n",
    "prod_setup(\"CPU\",\"CP\",450,0,0)\n",
    "prod_setup(\"Monitor\",\"MN\",150,0,0)\n",
    "prod_setup(\"Cables\",\"CA\",50,0,0)\n",
    "prod_setup(\"Keyboard\",\"KB\",100,0,0)\n",
    "prod_setup(\"Mouse\",\"MO\",75,0,0)\n",
    "prod_setup(\"RAM\",\"RM\",300,0,0)\n",
    "prod_setup(\"GPU\",\"GP\",350,0,0)\n",
    "\n",
    "mycursor.execute(\"SELECT * from products;\")\n",
    "myresult = mycursor.fetchall()\n",
    "myresult"
   ]
  },
  {
   "cell_type": "markdown",
   "metadata": {},
   "source": [
    "# Reward"
   ]
  },
  {
   "cell_type": "code",
   "execution_count": 4,
   "metadata": {},
   "outputs": [
    {
     "data": {
      "text/plain": [
       "[(datetime.datetime(2022, 11, 8, 14, 23, 26),\n",
       "  None,\n",
       "  'pooshpal',\n",
       "  'LP%20',\n",
       "  2,\n",
       "  'ACTIVE'),\n",
       " (datetime.datetime(2022, 11, 8, 14, 23, 26),\n",
       "  None,\n",
       "  'pooshpal',\n",
       "  'CP%30',\n",
       "  3,\n",
       "  'ACTIVE'),\n",
       " (datetime.datetime(2022, 11, 8, 14, 23, 26),\n",
       "  None,\n",
       "  'tom',\n",
       "  'MN%10',\n",
       "  1,\n",
       "  'ACTIVE'),\n",
       " (datetime.datetime(2022, 11, 8, 14, 23, 26),\n",
       "  None,\n",
       "  'tom',\n",
       "  'CP%30',\n",
       "  3,\n",
       "  'ACTIVE')]"
      ]
     },
     "execution_count": 4,
     "metadata": {},
     "output_type": "execute_result"
    }
   ],
   "source": [
    "mycursor.execute(\"TRUNCATE TABLE rewards;\")\n",
    "reward_setup(\"pooshpal\",\"LP%20\",2)\n",
    "reward_setup(\"pooshpal\",\"CP%30\",3)\n",
    "reward_setup(\"tom\",\"MN%10\",1)\n",
    "reward_setup(\"tom\",\"CP%30\",3)\n",
    "\n",
    "mycursor.execute(\"SELECT * from rewards;\")\n",
    "myresult = mycursor.fetchall()\n",
    "myresult"
   ]
  },
  {
   "cell_type": "markdown",
   "metadata": {},
   "source": [
    "# Log"
   ]
  },
  {
   "cell_type": "code",
   "execution_count": 5,
   "metadata": {},
   "outputs": [
    {
     "data": {
      "text/plain": [
       "[(datetime.datetime(2022, 11, 8, 14, 23, 26), 'pooshpal', 'True', 400),\n",
       " (datetime.datetime(2022, 11, 8, 14, 23, 26), 'pooshpal', 'False', 100),\n",
       " (datetime.datetime(2022, 11, 8, 14, 23, 26), 'tom', 'True', 500),\n",
       " (datetime.datetime(2022, 11, 8, 14, 23, 26), 'tom', 'False', 400)]"
      ]
     },
     "execution_count": 5,
     "metadata": {},
     "output_type": "execute_result"
    }
   ],
   "source": [
    "mycursor.execute(\"TRUNCATE TABLE logs;\")\n",
    "log_setup(\"pooshpal\",\"True\",400)\n",
    "log_setup(\"pooshpal\",\"False\",100)\n",
    "log_setup(\"tom\",\"True\",500)\n",
    "log_setup(\"tom\",\"False\",400)\n",
    "\n",
    "mycursor.execute(\"SELECT * from logs;\")\n",
    "myresult = mycursor.fetchall()\n",
    "myresult"
   ]
  },
  {
   "cell_type": "code",
   "execution_count": 6,
   "metadata": {},
   "outputs": [
    {
     "data": {
      "text/plain": [
       "[(datetime.datetime(2022, 11, 8, 13, 21, 53), 'pooshpal', 'True', 400),\n",
       " (datetime.datetime(2022, 11, 8, 13, 21, 53), 'pooshpal', 'False', 100)]"
      ]
     },
     "execution_count": 6,
     "metadata": {},
     "output_type": "execute_result"
    }
   ],
   "source": [
    "userName = \"pooshpal\"\n",
    "mycursor.execute(\"SELECT * from logs where userName = %s;\",(userName,))\n",
    "myresult = mycursor.fetchall()\n",
    "myresult"
   ]
  },
  {
   "cell_type": "markdown",
   "metadata": {},
   "source": [
    "# tests"
   ]
  },
  {
   "cell_type": "code",
   "execution_count": 1,
   "metadata": {},
   "outputs": [
    {
     "data": {
      "text/plain": [
       "('LOYAL', 2, 1)"
      ]
     },
     "metadata": {},
     "output_type": "display_data"
    },
    {
     "data": {
      "text/plain": [
       "'Laptop'"
      ]
     },
     "metadata": {},
     "output_type": "display_data"
    }
   ],
   "source": [
    "from Database import _database\n",
    "db = _database()\n",
    "\n",
    "display(db.getPast(userName=\"pooshpal\"))\n",
    "display(db.getProductName(code=\"LP\"))"
   ]
  },
  {
   "cell_type": "code",
   "execution_count": 3,
   "metadata": {},
   "outputs": [
    {
     "data": {
      "text/plain": [
       "['LP%20', 'CP%30']"
      ]
     },
     "execution_count": 3,
     "metadata": {},
     "output_type": "execute_result"
    }
   ],
   "source": [
    "\n",
    "rewardsToken = list(a[0] for a in db.getRewards(userName=\"pooshpal\"))\n",
    "rewardsToken"
   ]
  },
  {
   "cell_type": "code",
   "execution_count": 7,
   "metadata": {},
   "outputs": [
    {
     "data": {
      "text/plain": [
       "['LP%20', 'CP%30']"
      ]
     },
     "metadata": {},
     "output_type": "display_data"
    },
    {
     "data": {
      "text/plain": [
       "['LP%20 - Laptop @ 20 %', 'CP%30 - CPU @ 30 %']"
      ]
     },
     "metadata": {},
     "output_type": "display_data"
    }
   ],
   "source": [
    "from Helper import helper\n",
    "help = helper(userName=\"pooshpal\")\n",
    "\n",
    "token , eng_token = help.getUserRewards()\n",
    "display(token)\n",
    "display(eng_token)"
   ]
  },
  {
   "cell_type": "code",
   "execution_count": 2,
   "metadata": {},
   "outputs": [
    {
     "data": {
      "text/plain": [
       "[('Laptop', 250),\n",
       " ('CPU', 450),\n",
       " ('Monitor', 150),\n",
       " ('Cables', 50),\n",
       " ('Keyboard', 100),\n",
       " ('Mouse', 75),\n",
       " ('RAM', 300),\n",
       " ('GPU', 350)]"
      ]
     },
     "execution_count": 2,
     "metadata": {},
     "output_type": "execute_result"
    }
   ],
   "source": [
    "db.getProductInfo()"
   ]
  },
  {
   "cell_type": "code",
   "execution_count": 2,
   "metadata": {},
   "outputs": [
    {
     "data": {
      "text/plain": [
       "(['Laptop', 'CPU', 'Monitor', 'Cables', 'Keyboard', 'Mouse', 'RAM', 'GPU'],\n",
       " [250, 450, 150, 50, 100, 75, 300, 350])"
      ]
     },
     "execution_count": 2,
     "metadata": {},
     "output_type": "execute_result"
    }
   ],
   "source": [
    "help.getProductInfo()"
   ]
  },
  {
   "cell_type": "code",
   "execution_count": 3,
   "metadata": {},
   "outputs": [
    {
     "data": {
      "text/plain": [
       "'LP'"
      ]
     },
     "execution_count": 3,
     "metadata": {},
     "output_type": "execute_result"
    }
   ],
   "source": [
    "db.productNeedsHelp()"
   ]
  },
  {
   "cell_type": "code",
   "execution_count": 4,
   "metadata": {},
   "outputs": [
    {
     "data": {
      "text/plain": [
       "'LP%30'"
      ]
     },
     "execution_count": 4,
     "metadata": {},
     "output_type": "execute_result"
    }
   ],
   "source": [
    "help.allocateReward(bill=560)"
   ]
  },
  {
   "cell_type": "code",
   "execution_count": 7,
   "metadata": {},
   "outputs": [
    {
     "data": {
      "text/plain": [
       "[(datetime.datetime(2022, 11, 8, 13, 28, 11),\n",
       "  datetime.datetime(2022, 11, 8, 13, 28, 11),\n",
       "  'pooshpal',\n",
       "  'LP%20',\n",
       "  2,\n",
       "  'CLAIMED'),\n",
       " (datetime.datetime(2022, 11, 8, 13, 28, 11),\n",
       "  None,\n",
       "  'pooshpal',\n",
       "  'CP%30',\n",
       "  3,\n",
       "  'ACTIVE'),\n",
       " (datetime.datetime(2022, 11, 8, 13, 28, 11),\n",
       "  None,\n",
       "  'tom',\n",
       "  'MN%10',\n",
       "  1,\n",
       "  'ACTIVE'),\n",
       " (datetime.datetime(2022, 11, 8, 13, 28, 11),\n",
       "  None,\n",
       "  'tom',\n",
       "  'CP%30',\n",
       "  3,\n",
       "  'ACTIVE')]"
      ]
     },
     "execution_count": 7,
     "metadata": {},
     "output_type": "execute_result"
    }
   ],
   "source": [
    "userName=\"pooshpal\"\n",
    "token=\"LP%20\"\n",
    "mycursor.execute(\"UPDATE rewards set status = 'CLAIMED',dateTime_claimed = %s WHERE userName = %s AND rewardToken = %s;\",(dt,userName,token))\n",
    "mydb.commit()\n",
    "mycursor.execute(\"SELECT * from rewards;\")\n",
    "myresult = mycursor.fetchall()\n",
    "myresult"
   ]
  },
  {
   "cell_type": "code",
   "execution_count": 12,
   "metadata": {},
   "outputs": [
    {
     "data": {
      "text/plain": [
       "(['LP%20', 'CP%30'], ['LP%20 - Laptop @ 20 %', 'CP%30 - CPU @ 30 %'])"
      ]
     },
     "metadata": {},
     "output_type": "display_data"
    },
    {
     "data": {
      "text/plain": [
       "(['LP%20', 'CP%30'], ['LP%20 - Laptop @ 20 %', 'CP%30 - CPU @ 30 %'])"
      ]
     },
     "metadata": {},
     "output_type": "display_data"
    }
   ],
   "source": [
    "display(help.getUserRewards())\n",
    "help.rewardClaimed(token=\"LP%20\")\n",
    "display(help.getUserRewards())"
   ]
  },
  {
   "cell_type": "code",
   "execution_count": 17,
   "metadata": {},
   "outputs": [
    {
     "data": {
      "text/plain": [
       "[('LP', 'Laptop', 250, 48, 36),\n",
       " ('CP', 'CPU', 450, 0, 0),\n",
       " ('MN', 'Monitor', 150, 0, 0),\n",
       " ('CA', 'Cables', 50, 0, 0),\n",
       " ('KB', 'Keyboard', 100, 0, 0),\n",
       " ('MO', 'Mouse', 75, 0, 0),\n",
       " ('RM', 'RAM', 300, 0, 0),\n",
       " ('GP', 'GPU', 350, 0, 0)]"
      ]
     },
     "execution_count": 17,
     "metadata": {},
     "output_type": "execute_result"
    }
   ],
   "source": [
    "from Helper import helper\n",
    "help = helper(\"pooshpal\")\n",
    "\n",
    "help.updateProduct(purcahsedProducts={\"Laptop\":4},rewardClaimed=\"LP%20\")\n",
    "mydb.commit()\n",
    "mycursor.execute(\"SELECT * from products;\")\n",
    "myresult = mycursor.fetchall()\n",
    "myresult"
   ]
  }
 ],
 "metadata": {
  "kernelspec": {
   "display_name": "Python 3.10.6 64-bit",
   "language": "python",
   "name": "python3"
  },
  "language_info": {
   "codemirror_mode": {
    "name": "ipython",
    "version": 3
   },
   "file_extension": ".py",
   "mimetype": "text/x-python",
   "name": "python",
   "nbconvert_exporter": "python",
   "pygments_lexer": "ipython3",
   "version": "3.10.7 (main, Nov  2 2022, 18:49:29) [GCC 12.2.0]"
  },
  "orig_nbformat": 4,
  "vscode": {
   "interpreter": {
    "hash": "916dbcbb3f70747c44a77c7bcd40155683ae19c65e1c03b4aa3499c5328201f1"
   }
  }
 },
 "nbformat": 4,
 "nbformat_minor": 2
}
