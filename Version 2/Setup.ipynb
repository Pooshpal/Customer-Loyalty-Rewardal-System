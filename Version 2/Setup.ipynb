{
 "cells": [
  {
   "cell_type": "code",
   "execution_count": 1,
   "metadata": {},
   "outputs": [],
   "source": [
    "import mysql.connector as mysq\n",
    "\n",
    "mydb = mysq.connect(\n",
    "host=\"localhost\",\n",
    "user=\"root\",\n",
    "password=\"password\",\n",
    "database=\"dataBucket\"\n",
    ")\n",
    "mycursor = mydb.cursor()"
   ]
  },
  {
   "cell_type": "markdown",
   "metadata": {},
   "source": [
    "-       Log        [ dateTime(DateTime) , userName(String), rewardClaimed(Boolean), billTotal(Int) ]\n",
    "-       Rewards    [ dateTime_allocated(DateTime), dateTime_claimed(DateTime), userName(String), rewardToken(UNIQUE String), category(Int), status(String)]\n",
    "-       Products   [ productCode(UNIQUE String),productName(String), productPrice(Int), UnitsSold(Int), UnitsSold_Reward(Int)]"
   ]
  },
  {
   "cell_type": "markdown",
   "metadata": {},
   "source": [
    "# Products"
   ]
  },
  {
   "cell_type": "code",
   "execution_count": 2,
   "metadata": {},
   "outputs": [],
   "source": [
    "def prod_setup(productCode, productName, productPrice, UnitsSold, UnitsSold_Reward):\n",
    "    mycursor.execute(\"INSERT INTO products (productCode, productName, productPrice, UnitsSold, UnitsSold_Reward) VALUES (%s,%s,%s,%s,%s);\",(productCode, productName, productPrice, UnitsSold, UnitsSold_Reward))\n",
    "    mydb.commit()\n",
    "    #print(mycursor.lastrowid)"
   ]
  },
  {
   "cell_type": "code",
   "execution_count": 7,
   "metadata": {},
   "outputs": [],
   "source": [
    "mycursor.execute(\"TRUNCATE TABLE products;\")\n",
    "prod_setup(\"Laptop\",\"LP\",250,0,0)\n",
    "prod_setup(\"CPU\",\"CP\",450,0,0)\n",
    "prod_setup(\"Monitor\",\"MN\",150,0,0)\n",
    "prod_setup(\"Cables\",\"CA\",50,0,0)\n",
    "prod_setup(\"Keyboard\",\"KB\",100,0,0)\n",
    "prod_setup(\"Mouse\",\"MO\",75,0,0)\n",
    "prod_setup(\"RAM\",\"RM\",300,0,0)\n",
    "prod_setup(\"GPU\",\"GP\",350,0,0)"
   ]
  },
  {
   "cell_type": "code",
   "execution_count": 8,
   "metadata": {},
   "outputs": [
    {
     "data": {
      "text/plain": [
       "[('Laptop', 'LP', 250, 0, 0),\n",
       " ('CPU', 'CP', 450, 0, 0),\n",
       " ('Monitor', 'MN', 150, 0, 0),\n",
       " ('Cables', 'CA', 50, 0, 0),\n",
       " ('Keyboard', 'KB', 100, 0, 0),\n",
       " ('Mouse', 'MO', 75, 0, 0),\n",
       " ('RAM', 'RM', 300, 0, 0),\n",
       " ('GPU', 'GP', 350, 0, 0)]"
      ]
     },
     "execution_count": 8,
     "metadata": {},
     "output_type": "execute_result"
    }
   ],
   "source": [
    "mycursor.execute(\"SELECT * from products;\")\n",
    "myresult = mycursor.fetchall()\n",
    "myresult"
   ]
  },
  {
   "cell_type": "code",
   "execution_count": null,
   "metadata": {},
   "outputs": [],
   "source": [
    "def getUserRewards(self,username):\n",
    "        self.mycursor.execute(\"SELECT reward FROM rewards WHERE userName = '%s'\" % username)\n",
    "        rewards = self.mycursor.fetchall()\n",
    "        if rewards == []:return None\n",
    "        else : return rewards\n",
    "\n",
    "    def updateCustomer(self,total,username,reward_used,datetime):\n",
    "        self.mycursor.execute(\"INSERT INTO customers (date, userName, totalBill, reward) VALUES (%s,%s,%s,%s)\",(datetime,username,total,reward_used))\n",
    "        self.mydb.commit()\n",
    "        return self.mycursor.lastrowid\n",
    "\n",
    "    def updateRewards_Add(self,datetime, username, reward, category, status):\n",
    "        self.mycursor.execute(\"INSERT INTO rewards (date, userName, reward, category, status) VALUES (%s,%s,%s,%s,%s)\",(datetime,username,reward,1,\"ACTIVE\"))\n",
    "        self.mydb.commit()\n",
    "        return self.mycursor.lastrowid\n",
    "\n",
    "    def updateRewards_Update(self,reward):\n",
    "        self.mycursor.execute(\"UPDATE rewards SET status = 'INACTIVE' WHERE reward = '%s'\" % reward)\n",
    "        self.mydb.commit()\n",
    "        return self.mycursor.rowcount     \n",
    "\n",
    "    def updateProducts(self,datetime, username, unitMonitor:int, unitCPU:int, unitDrivers:int, unitCable:int, unitKeyboard:int, unitSpeakers:int, unitWebcam:int, unitMouse:int):\n",
    "        self.mycursor.execute(\"INSERT INTO products (date, userName, unitMonitor, unitCPU, unitDrivers, unitCable, unitKeyboard, unitSpeakers, unitWebcam, unitMouse) VALUES (%s,%s,%s,%s,%s,%s,%s,%s,%s,%s)\",(datetime,username,unitMonitor,unitCPU,unitDrivers,unitCable,unitKeyboard,unitSpeakers,unitWebcam,unitMouse))\n",
    "        self.mydb.commit()\n",
    "        return self.mycursor.lastrowid"
   ]
  }
 ],
 "metadata": {
  "kernelspec": {
   "display_name": "Python 3.10.6 64-bit",
   "language": "python",
   "name": "python3"
  },
  "language_info": {
   "codemirror_mode": {
    "name": "ipython",
    "version": 3
   },
   "file_extension": ".py",
   "mimetype": "text/x-python",
   "name": "python",
   "nbconvert_exporter": "python",
   "pygments_lexer": "ipython3",
   "version": "3.10.6"
  },
  "orig_nbformat": 4,
  "vscode": {
   "interpreter": {
    "hash": "916dbcbb3f70747c44a77c7bcd40155683ae19c65e1c03b4aa3499c5328201f1"
   }
  }
 },
 "nbformat": 4,
 "nbformat_minor": 2
}
